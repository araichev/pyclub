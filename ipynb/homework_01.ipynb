{
 "cells": [
  {
   "cell_type": "code",
   "execution_count": 29,
   "metadata": {
    "collapsed": true
   },
   "outputs": [],
   "source": [
    "from pathlib import Path\n",
    "\n"
   ]
  },
  {
   "cell_type": "code",
   "execution_count": 58,
   "metadata": {
    "collapsed": false
   },
   "outputs": [
    {
     "name": "stdout",
     "output_type": "stream",
     "text": [
      "[2, 5, 7]\n",
      "2\n"
     ]
    }
   ],
   "source": [
    "def get_run_starts(word, n=2):\n",
    "    \"\"\"\n",
    "    Call a sequence of n >= 1 consecutive identical characters in a word\n",
    "    an *n-run*.\n",
    "    For each n-run in the given word, \n",
    "    record its starting index in the word, \n",
    "    and return the list of all such indices.\n",
    "    \"\"\"\n",
    "    word = word + '!' # Add a special end character to simplify counting \n",
    "    starts = []  # Start indices of the n-runs found\n",
    "    run = [0]  # Idices of the current run\n",
    "    for i in range(1, len(word)):\n",
    "        if word[i] == word[i - 1]:\n",
    "            # Run continues\n",
    "            run.append(i)\n",
    "        else:\n",
    "            # Run ends. Is it of length n?\n",
    "            if len(run) == n:\n",
    "                starts.append(run[0])\n",
    "            run = [i]\n",
    "    \n",
    "    return starts\n",
    "\n",
    "def max_consecutive_runs(word, n=2):\n",
    "    \"\"\"\n",
    "    Return the maximum number of consecutive n-runs in the given word.\n",
    "    \"\"\"\n",
    "    starts = get_run_starts(word, n)\n",
    "\n",
    "    # Consecutive n-runs have start indices that differ by n.\n",
    "    if len(starts) < 2:\n",
    "        M = len(starts)\n",
    "    else:\n",
    "        M = 1\n",
    "        count = 1\n",
    "        for j in range(1, len(starts)):\n",
    "            if starts[j] - starts[j - 1] == n:\n",
    "                count += 1\n",
    "            else:\n",
    "                count = 1\n",
    "            if count > M:\n",
    "                M = count\n",
    "    return M\n",
    "    \n",
    "# Test some\n",
    "word = 'committee'\n",
    "print(get_run_starts(word))\n",
    "print(max_consecutive_runs(word))"
   ]
  },
  {
   "cell_type": "code",
   "execution_count": 67,
   "metadata": {
    "collapsed": false
   },
   "outputs": [
    {
     "name": "stdout",
     "output_type": "stream",
     "text": [
      "bookkeeper 3\n",
      "bookkeepers 3\n",
      "bookkeeping 3\n",
      "bookkeepings 3\n"
     ]
    }
   ],
   "source": [
    "# Run on all words\n",
    "p = Path('../data/homework_01/words.txt')\n",
    "with p.open() as src:\n",
    "    for line in src:\n",
    "        word = line.strip()\n",
    "        M = max_consecutive_runs(word)\n",
    "        if M >= 3:\n",
    "            print(word, M)\n"
   ]
  },
  {
   "cell_type": "code",
   "execution_count": null,
   "metadata": {
    "collapsed": true
   },
   "outputs": [],
   "source": []
  }
 ],
 "metadata": {
  "kernelspec": {
   "display_name": "Python 3",
   "language": "python",
   "name": "python3"
  },
  "language_info": {
   "codemirror_mode": {
    "name": "ipython",
    "version": 3
   },
   "file_extension": ".py",
   "mimetype": "text/x-python",
   "name": "python",
   "nbconvert_exporter": "python",
   "pygments_lexer": "ipython3",
   "version": "3.5.1"
  }
 },
 "nbformat": 4,
 "nbformat_minor": 1
}
