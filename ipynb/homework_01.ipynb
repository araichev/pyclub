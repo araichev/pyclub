{
 "cells": [
  {
   "cell_type": "code",
   "execution_count": 20,
   "metadata": {
    "collapsed": true
   },
   "outputs": [],
   "source": [
    "from pathlib import Path\n",
    "\n"
   ]
  },
  {
   "cell_type": "code",
   "execution_count": 37,
   "metadata": {
    "collapsed": false
   },
   "outputs": [
    {
     "name": "stdout",
     "output_type": "stream",
     "text": [
      "bingo\n",
      "1 consecutive doubles? False\n",
      "2 consecutive doubles? False\n",
      "3 consecutive doubles? False\n",
      "committee\n",
      "1 consecutive doubles? True\n",
      "2 consecutive doubles? True\n",
      "3 consecutive doubles? False\n",
      "commttee\n",
      "1 consecutive doubles? True\n",
      "2 consecutive doubles? True\n",
      "3 consecutive doubles? True\n"
     ]
    }
   ],
   "source": [
    "def has_pattern(word, n=3):\n",
    "    \"\"\"\n",
    "    Return ``True`` if the given word has \n",
    "    ``n` consecutive double letters; \n",
    "    return ``False`` otherwise.\n",
    "    \"\"\"\n",
    "    # Scan through the word with a moving window of size 2*n\n",
    "    N = 2*n \n",
    "    \n",
    "    # Impossible if word is too short\n",
    "    if len(word) < N:\n",
    "        return False\n",
    "\n",
    "    for i in range(len(word) - N + 1):\n",
    "        success = True\n",
    "        \n",
    "        # Check window for pattern\n",
    "        for j in range(i, i + N, 2):\n",
    "            if word[j] != word[j + 1]:\n",
    "                # Fail!\n",
    "                success = False\n",
    "                break\n",
    "        \n",
    "        # Break loop if window has pattern\n",
    "        if success:\n",
    "            break\n",
    "            \n",
    "    return success\n",
    "\n",
    "# Test some\n",
    "words = ['bingo', 'committee', 'commttee']\n",
    "for word in words:\n",
    "    print(word)\n",
    "    for k in range(1, 4):\n",
    "        result = has_pattern(word, k)\n",
    "        print('{!s} consecutive doubles?'.format(k), result)\n"
   ]
  },
  {
   "cell_type": "code",
   "execution_count": 38,
   "metadata": {
    "collapsed": false
   },
   "outputs": [
    {
     "name": "stdout",
     "output_type": "stream",
     "text": [
      "bookkeeper\n",
      "bookkeepers\n",
      "bookkeeping\n",
      "bookkeepings\n"
     ]
    }
   ],
   "source": [
    "# Check all words in word list for pattern\n",
    "p = Path('../data/homework_01/words.txt')\n",
    "with p.open() as src:\n",
    "    for line in src:\n",
    "        word = line.strip()\n",
    "        if has_pattern(word):\n",
    "            print(word)\n"
   ]
  },
  {
   "cell_type": "code",
   "execution_count": null,
   "metadata": {
    "collapsed": true
   },
   "outputs": [],
   "source": []
  }
 ],
 "metadata": {
  "kernelspec": {
   "display_name": "Python 3",
   "language": "python",
   "name": "python3"
  },
  "language_info": {
   "codemirror_mode": {
    "name": "ipython",
    "version": 3
   },
   "file_extension": ".py",
   "mimetype": "text/x-python",
   "name": "python",
   "nbconvert_exporter": "python",
   "pygments_lexer": "ipython3",
   "version": "3.5.2"
  }
 },
 "nbformat": 4,
 "nbformat_minor": 1
}
