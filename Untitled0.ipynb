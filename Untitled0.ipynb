{
 "metadata": {
  "name": "",
  "signature": "sha256:0d2ee8d9ac5f46ef8e0e7ef2fc3d16cb6bfc5641efc2632f22ed05476f4be72e"
 },
 "nbformat": 3,
 "nbformat_minor": 0,
 "worksheets": [
  {
   "cells": [
    {
     "cell_type": "code",
     "collapsed": false,
     "input": [
      "import pandas as pd\n",
      "import os\n",
      "import zipfile\n",
      "import shutil\n",
      "\n"
     ],
     "language": "python",
     "metadata": {},
     "outputs": [],
     "prompt_number": 7
    },
    {
     "cell_type": "code",
     "collapsed": false,
     "input": [
      "path = '/home/araichev/pyclub/data/portland_gtfs.zip'\n",
      "\n",
      "# Unzip feed\n",
      "if zipfile.is_zipfile(path):\n",
      "    # Extract to temporary location\n",
      "    zipped = True\n",
      "    archive = zipfile.ZipFile(path)\n",
      "    tmp_path = path.rstrip('.zip') + '/'\n",
      "    archive.extractall(tmp_path)\n",
      "    \n",
      "# Read relevant data\n",
      "trips = pd.read_csv(tmp_path + 'trips.txt', dtype={'route_id': str,\n",
      "'trip_id': str, 'service_id': str, 'shape_id': str, 'stop_id': str})\n",
      "stop_times = pd.read_csv(tmp_path + 'stop_times.txt', dtype={'stop_id': str,\n",
      "'trip_id': str})\n",
      "\n",
      "# Remove extracted directory\n",
      "shutil.rmtree(tmp_path)"
     ],
     "language": "python",
     "metadata": {},
     "outputs": [
      {
       "output_type": "stream",
       "stream": "stdout",
       "text": [
        "yep\n"
       ]
      }
     ],
     "prompt_number": 12
    },
    {
     "cell_type": "code",
     "collapsed": false,
     "input": [],
     "language": "python",
     "metadata": {},
     "outputs": []
    }
   ],
   "metadata": {}
  }
 ]
}