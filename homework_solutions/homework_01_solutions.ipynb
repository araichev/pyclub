{
 "cells": [
  {
   "cell_type": "code",
   "execution_count": 3,
   "metadata": {},
   "outputs": [],
   "source": [
    "from pathlib import Path\n",
    "from collections import defaultdict\n"
   ]
  },
  {
   "cell_type": "code",
   "execution_count": 7,
   "metadata": {},
   "outputs": [
    {
     "name": "stdout",
     "output_type": "stream",
     "text": [
      "auckland_gtfs_20161017.zip                      nz_crashes_2011--2016.csv\r\n",
      "auckland_new-zealand_roads_gen1.geojson         nz_crashes_metadata.csv\r\n",
      "auckland_transit_delays_20170217--20170226.csv  words.txt\r\n",
      "bicycle_counts_2017.csv\r\n"
     ]
    }
   ],
   "source": [
    "DATA_DIR = Path(\"../data\")\n",
    "%ls {DATA_DIR}"
   ]
  },
  {
   "cell_type": "markdown",
   "metadata": {},
   "source": [
    "# Problem 3"
   ]
  },
  {
   "cell_type": "code",
   "execution_count": 13,
   "metadata": {},
   "outputs": [
    {
     "name": "stdout",
     "output_type": "stream",
     "text": [
      "bingo\n",
      "1 consecutive doubles? False\n",
      "2 consecutive doubles? False\n",
      "3 consecutive doubles? False\n",
      "committee\n",
      "1 consecutive doubles? True\n",
      "2 consecutive doubles? True\n",
      "3 consecutive doubles? False\n",
      "commttee\n",
      "1 consecutive doubles? True\n",
      "2 consecutive doubles? True\n",
      "3 consecutive doubles? True\n"
     ]
    }
   ],
   "source": [
    "def has_pattern(word, n=3):\n",
    "    \"\"\"\n",
    "    Return ``True`` if the given word has at least ``n` consecutive double letters. \n",
    "    Return ``False`` otherwise.\n",
    "    \"\"\"\n",
    "    # Scan through the word with a moving window of size 2*n\n",
    "    N = 2*n \n",
    "    \n",
    "    # Impossible if word is too short\n",
    "    if len(word) < N:\n",
    "        return False\n",
    "\n",
    "    for i in range(len(word) - N + 1):\n",
    "        is_successful = True\n",
    "        \n",
    "        # Check window for pattern\n",
    "        for j in range(i, i + N, 2):\n",
    "            if word[j] != word[j + 1]:\n",
    "                # Fail!\n",
    "                is_successful = False\n",
    "                break\n",
    "        \n",
    "        # Break loop if window has pattern\n",
    "        if is_successful:\n",
    "            break\n",
    "            \n",
    "    return is_successful\n",
    "\n",
    "# Test some\n",
    "words = [\"bingo\", \"committee\", \"commttee\"]\n",
    "for word in words:\n",
    "    print(word)\n",
    "    for k in range(1, 4):\n",
    "        result = has_pattern(word, k)\n",
    "        print(f\"{k} consecutive doubles?\", result)\n"
   ]
  },
  {
   "cell_type": "code",
   "execution_count": 9,
   "metadata": {},
   "outputs": [
    {
     "name": "stdout",
     "output_type": "stream",
     "text": [
      "bookkeeper\n",
      "bookkeepers\n",
      "bookkeeping\n",
      "bookkeepings\n"
     ]
    }
   ],
   "source": [
    "# Check all words in word list for pattern\n",
    "path = DATA_DIR/\"words.txt\"\n",
    "with path.open() as src:\n",
    "    for line in src:\n",
    "        word = line.strip()\n",
    "        if has_pattern(word):\n",
    "            print(word)\n"
   ]
  },
  {
   "cell_type": "markdown",
   "metadata": {
    "collapsed": true
   },
   "source": [
    "# Problem 4"
   ]
  },
  {
   "cell_type": "code",
   "execution_count": 11,
   "metadata": {},
   "outputs": [],
   "source": [
    "def find_anagrams(wordlist):\n",
    "    \"\"\"\n",
    "    Given a list of words, return a collection of all lists of words\n",
    "    that are anagrams of each other.\n",
    "    Sort the collection from the longest list of anagrams to the shortest list,\n",
    "    and only include lists of size at least 2.\n",
    "    \"\"\"\n",
    "    # Initialize a dictionary that maps a sorted letter-tuple \n",
    "    # to the list of all words in the word list with those letters.\n",
    "    # Use tuples, because dictionary keys must be immutable.\n",
    "    words_by_letters = defaultdict(list) # key -> empty list\n",
    "    \n",
    "    # Fill dictionary\n",
    "    for word in wordlist:\n",
    "        letters = tuple(sorted(word)) \n",
    "        words_by_letters[letters].append(word)\n",
    "        \n",
    "    # Only keep lists of size at least 2\n",
    "    anagram_list = [words for words in words_by_letters.values() if len(words) > 1]\n",
    "    \n",
    "    # Sort by descendingly by set size\n",
    "    anagram_list.sort(key=lambda x: -len(x))\n",
    "    \n",
    "    return anagram_list\n",
    "\n"
   ]
  },
  {
   "cell_type": "code",
   "execution_count": 12,
   "metadata": {},
   "outputs": [
    {
     "name": "stdout",
     "output_type": "stream",
     "text": [
      "--------------------\n",
      "Longest 3 anagram sets:\n",
      "['alerts', 'alters', 'artels', 'estral', 'laster', 'ratels', 'salter', 'slater', 'staler', 'stelar', 'talers']\n",
      "['apers', 'asper', 'pares', 'parse', 'pears', 'prase', 'presa', 'rapes', 'reaps', 'spare', 'spear']\n",
      "['least', 'setal', 'slate', 'stale', 'steal', 'stela', 'taels', 'tales', 'teals', 'tesla']\n",
      "--------------------\n",
      "Shortest 3 anagram sets:\n",
      "['zaffer', 'zaffre']\n",
      "['zaffers', 'zaffres']\n",
      "['zaniest', 'zeatins']\n"
     ]
    }
   ],
   "source": [
    "# Generate word list from file\n",
    "p = DATA_DIR/\"words.txt\"\n",
    "wordlist = (line.strip() for line in p.open())\n",
    "\n",
    "# Find anagrams\n",
    "anagrams = find_anagrams(wordlist)\n",
    "\n",
    "# Print highlights\n",
    "n = 3\n",
    "\n",
    "print(\"-\"*20)\n",
    "print(f\"Longest {n} anagram sets:\")\n",
    "for s in anagrams[:n]:\n",
    "    print(s)\n",
    "    \n",
    "print(\"-\"*20)    \n",
    "print(f\"Shortest {n} anagram sets:\".format(n))\n",
    "for s in anagrams[-n:]:\n",
    "    print(s)\n"
   ]
  }
 ],
 "metadata": {
  "kernelspec": {
   "display_name": "Python 3",
   "language": "python",
   "name": "python3"
  },
  "language_info": {
   "codemirror_mode": {
    "name": "ipython",
    "version": 3
   },
   "file_extension": ".py",
   "mimetype": "text/x-python",
   "name": "python",
   "nbconvert_exporter": "python",
   "pygments_lexer": "ipython3",
   "version": "3.7.4"
  }
 },
 "nbformat": 4,
 "nbformat_minor": 1
}
